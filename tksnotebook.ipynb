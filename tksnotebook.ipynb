{
 "cells": [
  {
   "cell_type": "markdown",
   "metadata": {},
   "source": [
    "# THE KITCHEN SINK NOTEBOOK METHODOLOGY\n",
    "All obectives in 'Information Gathering' OWASP Testing Guide:\n",
    "- Identify what sensitive design and configuration information of the application, system, or organization is exposed directly (on the organization’s website) or indirectly (via third-party services).\n",
    "- Determine the version and type of a running web server to enable further discovery of any known vulnerabilities.\n",
    "- Identify hidden or obfuscated paths and functionality through the analysis of metadata files.\n",
    "- Extract and map other information that could lead to better understanding of the systems at hand.\n",
    "- Enumerate the applications within scope that exist on a web server.\n",
    "- Review webpage comments and metadata to find any information leakage.\n",
    "- Gather JavaScript files and review the JS code to better understand the application and to find any information leakage.\n",
    "- Identify if source map files or other front-end debug files exist.\n",
    "- Identify possible entry and injection points through request and response analysis.\n",
    "- Map the target application and understand the principal workflows.\n",
    "- Fingerprint the components being used by the web applications.\n",
    "\n",
    "\n",
    "\n",
    "\n",
    "1. Manual Recon - Search engine OSINT, Application Entry Points and map execution paths through the application\n",
    "    - Identify what sensitive design and configuration information of the application, system, or organization is exposed directly (on the organization’s website) or indirectly (via third-party services). (4.1.1)\n",
    "    - Identify possible entry and injection points through request and response analysis by carefully following requests and responses with Burp (4.1.6)\n",
    "    - Map the target application and understand the principal workflows. (4.1.7)\n",
    "\n",
    "1. Static code analysis \n",
    "    - Review webpage comments and metadata to find any information leakage. (4.1.5)\n",
    "    - Gather JavaScript files and review the JS code to better understand the application and to find any information leakage. (4.1.5)\n",
    "    - Identify if source map files or other front-end debug files exist. (4.1.5)\n",
    "    - Extract and map other information that could lead to better understanding of the systems at hand. (4.1.3)\n",
    "    - Identify possible entry and injection points through request and response analysis. (4.1.6) \n",
    "    - Fingerprint the components being used by the web applications. (4.1.8)\n",
    "\n",
    "1. Dirbust / Directory walk\n",
    "    - Identify hidden or obfuscated paths and functionality through the analysis of metadata files. (4.1.3)\n",
    "    - Fingerprint the components being used by the web applications. (4.1.8)\n",
    "\n",
    "1. Port Scan / DNS Look\n",
    "    - Enumerate the applications within scope that exist on a web server. (4.1.4)\n",
    "\n",
    "1. Banner Grabbing / Response analysis\n",
    "    - Determine the version and type of a running web server to enable further discovery of any known vulnerabilities. (4.1.2)\n",
    "    - Fingerprint the components being used by the web applications. (4.1.8)\n",
    "\n",
    "\n",
    "\n"
   ]
  }
 ],
 "metadata": {
  "kernelspec": {
   "display_name": "Python 3",
   "language": "python",
   "name": "python3"
  },
  "language_info": {
   "name": "python",
   "version": "3.12.2"
  }
 },
 "nbformat": 4,
 "nbformat_minor": 2
}
