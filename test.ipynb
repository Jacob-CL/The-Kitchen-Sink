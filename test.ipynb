{
 "cells": [
  {
   "cell_type": "code",
   "execution_count": 1,
   "metadata": {},
   "outputs": [
    {
     "name": "stdout",
     "output_type": "stream",
     "text": [
      "\n",
      "Query for syd15s17-in-f4.1e100.net A records:\n",
      "  - A record: 142.250.71.68\n",
      "Failed to retrieve A records for syd15s17-in-f4.1e100.net: 'A' object has no attribute 'rrset'\n",
      "\n",
      "Query for syd15s17-in-f4.1e100.net AAAA records:\n",
      "  - AAAA record: 2404:6800:4006:812::4\n",
      "Failed to retrieve AAAA records for syd15s17-in-f4.1e100.net: 'AAAA' object has no attribute 'rrset'\n",
      "Failed to retrieve MX records for syd15s17-in-f4.1e100.net: The DNS response does not contain an answer to the question: syd15s17-in-f4.1e100.net. IN MX\n",
      "Failed to retrieve TXT records for syd15s17-in-f4.1e100.net: The DNS response does not contain an answer to the question: syd15s17-in-f4.1e100.net. IN TXT\n",
      "Failed to retrieve NS records for syd15s17-in-f4.1e100.net: The DNS response does not contain an answer to the question: syd15s17-in-f4.1e100.net. IN NS\n",
      "IP = 142.250.71.68 \n",
      "Root Domain = None \n",
      "Port = 1111\n"
     ]
    }
   ],
   "source": []
  }
 ],
 "metadata": {
  "kernelspec": {
   "display_name": "Python 3",
   "language": "python",
   "name": "python3"
  },
  "language_info": {
   "codemirror_mode": {
    "name": "ipython",
    "version": 3
   },
   "file_extension": ".py",
   "mimetype": "text/x-python",
   "name": "python",
   "nbconvert_exporter": "python",
   "pygments_lexer": "ipython3",
   "version": "3.12.2"
  }
 },
 "nbformat": 4,
 "nbformat_minor": 2
}
