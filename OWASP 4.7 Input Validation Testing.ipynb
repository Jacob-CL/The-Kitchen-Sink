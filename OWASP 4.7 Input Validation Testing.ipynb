{
 "cells": [
  {
   "cell_type": "code",
   "execution_count": null,
   "metadata": {},
   "outputs": [],
   "source": [
    "# INPUT VALIDATION TESTING - https://owasp.org/www-project-web-security-testing-guide/stable/4-Web_Application_Security_Testing/07-Input_Validation_Testing/README\n",
    "\n",
    "# Global Variables\n",
    "url = \"http://94.237.57.59:40857\"\n",
    "ip_address = \"94.237.57.59\"\n",
    "port = \"40857\"\n",
    "\n",
    "url2 = \"https://www.google.com\""
   ]
  },
  {
   "cell_type": "code",
   "execution_count": null,
   "metadata": {},
   "outputs": [],
   "source": [
    "# 4.7.1 NOTES ON TESTING FOR REFLECTED CROSS SITE SCRIPTING\n",
    "# https://owasp.org/www-project-web-security-testing-guide/stable/4-Web_Application_Security_Testing/07-Input_Validation_Testing/01-Testing_for_Reflected_Cross_Site_Scripting\n",
    "# - Identify variables that are reflected in responses.\n",
    "# - Assess the input they accept and the encoding that gets applied on return (if any)."
   ]
  },
  {
   "cell_type": "code",
   "execution_count": null,
   "metadata": {},
   "outputs": [],
   "source": [
    "# 4.7.1 CODE FOR TESTING FOR REFLECTED CROSS SITE SCRIPTING"
   ]
  }
 ],
 "metadata": {
  "kernelspec": {
   "display_name": "Python 3",
   "language": "python",
   "name": "python3"
  },
  "language_info": {
   "name": "python",
   "version": "3.12.2"
  }
 },
 "nbformat": 4,
 "nbformat_minor": 2
}
